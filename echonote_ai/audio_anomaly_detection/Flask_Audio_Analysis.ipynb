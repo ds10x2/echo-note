{
 "cells": [
  {
   "cell_type": "markdown",
   "id": "0",
   "metadata": {},
   "source": [
    "# 1. 라이브러리 import"
   ]
  },
  {
   "cell_type": "markdown",
   "id": "1",
   "metadata": {},
   "source": [
    "## 1) 모델 관련"
   ]
  },
  {
   "cell_type": "code",
   "execution_count": null,
   "id": "2",
   "metadata": {},
   "outputs": [],
   "source": [
    "import os\n",
    "\n",
    "# 음성 데이터 처리\n",
    "import librosa\n",
    "import numpy as np\n",
    "import pandas as pd\n",
    "\n",
    "# 데이터 시각화\n",
    "from matplotlib import pyplot as plt\n",
    "\n",
    "# 모델 관련\n",
    "import sklearn\n",
    "from sklearn import preprocessing # AttributeError: module 'sklearn' has no attribute 'preprocessing'\n",
    "import tensorflow as tf"
   ]
  },
  {
   "cell_type": "markdown",
   "id": "3",
   "metadata": {},
   "source": [
    "## 2) 모델 사용을 위한 라이브러리"
   ]
  },
  {
   "cell_type": "code",
   "execution_count": null,
   "id": "4",
   "metadata": {},
   "outputs": [],
   "source": [
    "import import_ipynb\n",
    "import voice_strength"
   ]
  },
  {
   "cell_type": "markdown",
   "id": "5",
   "metadata": {},
   "source": [
    "## 3) 플라스크 서버 구축을 위한 라이브러리"
   ]
  },
  {
   "cell_type": "code",
   "execution_count": null,
   "id": "6",
   "metadata": {},
   "outputs": [],
   "source": [
    "import tempfile\n",
    "import logging\n",
    "from flask import Flask, request, jsonify\n",
    "import torch\n",
    "import threading\n",
    "import queue\n",
    "import requests\n",
    "from flask_restx import Api, Resource, fields, marshal\n",
    "import signal\n",
    "from datetime import datetime"
   ]
  },
  {
   "cell_type": "markdown",
   "id": "7",
   "metadata": {},
   "source": [
    "# 2. GPU 사용 확인"
   ]
  },
  {
   "cell_type": "code",
   "execution_count": null,
   "id": "8",
   "metadata": {},
   "outputs": [],
   "source": [
    "print(\"Num GPUs Available: \", len(tf.config.list_physical_devices('GPU')))\n",
    "print(tf.config.list_physical_devices('GPU'))"
   ]
  },
  {
   "cell_type": "markdown",
   "id": "9",
   "metadata": {},
   "source": [
    "# 3. 이것 저것 설정"
   ]
  },
  {
   "cell_type": "code",
   "execution_count": null,
   "id": "10",
   "metadata": {},
   "outputs": [],
   "source": [
    "torch.cuda.empty_cache()"
   ]
  },
  {
   "cell_type": "markdown",
   "id": "11",
   "metadata": {},
   "source": [
    "# 4. 서버 구축"
   ]
  },
  {
   "cell_type": "markdown",
   "id": "12",
   "metadata": {},
   "source": [
    "## 1) 로그 설정"
   ]
  },
  {
   "cell_type": "code",
   "execution_count": null,
   "id": "13",
   "metadata": {},
   "outputs": [],
   "source": [
    "logging.basicConfig(level=logging.INFO)\n",
    "logger = logging.getLogger(__name__)"
   ]
  },
  {
   "cell_type": "markdown",
   "id": "14",
   "metadata": {},
   "source": [
    "## 2) 라우터 및 swagger 설정"
   ]
  },
  {
   "cell_type": "code",
   "execution_count": null,
   "id": "15",
   "metadata": {},
   "outputs": [],
   "source": [
    "app = Flask(__name__)\n",
    "\n",
    "# swagger (http://127.0.0.1:5000/api-docs)\n",
    "api = Api(\n",
    "    app,\n",
    "    version='1.0',\n",
    "    title='발화 강세 분석 AI를 위한 API 문서',\n",
    "    description='Swagger 문서',\n",
    "    doc=\"/api-docs\"\n",
    ")\n",
    "\n",
    "voice_api = api.namespace(name='voice', description='발화 분석 관련 API')"
   ]
  },
  {
   "cell_type": "markdown",
   "id": "16",
   "metadata": {},
   "source": [
    "## 3) dto 정의"
   ]
  },
  {
   "cell_type": "code",
   "execution_count": null,
   "id": "17",
   "metadata": {},
   "outputs": [],
   "source": [
    "analysis_request_model = api.model('request', {\n",
    "    'noteId': fields.Integer(readOnly=True, required=True, description='노트 id'), \n",
    "    'objectUrl': fields.String(required=True, description='녹음본이 저장된 위치'),\n",
    "    'processId': fields.String(required=True, description='각 요청에 대한 UUID'),\n",
    "})\n",
    "\n",
    "analysis_response_model = api.model('response', {\n",
    "    'noteId': fields.String(readOnly=True, required=True, description='노트 id'),\n",
    "    'processId': fields.String(required=True, description='각 요청에 대한 UUID'),\n",
    "    'status': fields.String(required=True, description='처리 상태'),\n",
    "})\n",
    "\n",
    "analysis_response_data = {\n",
    "    'noteId': 0,\n",
    "    'processId': '',\n",
    "    'status': '',\n",
    "}\n",
    "\n",
    "base_response = {\n",
    "    'code': 200,\n",
    "    'message': '',\n",
    "    'data': None\n",
    "}"
   ]
  },
  {
   "cell_type": "code",
   "execution_count": null,
   "id": "18",
   "metadata": {},
   "outputs": [],
   "source": [
    "process_request_queue = []"
   ]
  },
  {
   "cell_type": "markdown",
   "id": "19",
   "metadata": {},
   "source": [
    "## 4) 컨트롤러"
   ]
  },
  {
   "cell_type": "code",
   "execution_count": null,
   "id": "20",
   "metadata": {},
   "outputs": [],
   "source": [
    "@voice_api.route('/')\n",
    "class Index(Resource):\n",
    "    def get(self):\n",
    "        base_response['code'] = 200\n",
    "        base_response['message'] = 'hello'\n",
    "        base_response['data'] = '안녕하'\n",
    "\n",
    "        return jsonify(base_response)"
   ]
  },
  {
   "cell_type": "code",
   "execution_count": null,
   "id": "21",
   "metadata": {},
   "outputs": [],
   "source": [
    "@voice_api.route('/analysis')\n",
    "class Analysis(Resource):\n",
    "    @voice_api.expect(analysis_request_model)  # 요청 모델을 Swagger에 추가\n",
    "    # @api.marshal_with(analysis_response_model)  # 응답 모델을 Swagger에 추가\n",
    "\n",
    "    def post(self):\n",
    "        try:\n",
    "            req = marshal(request.get_json(force=True), analysis_request_model)\n",
    "            print(f\"{datetime.now().time()} {req}\")\n",
    "            \n",
    "            # 유효 범위 처리\n",
    "            if req['noteId'] < 0:\n",
    "                return\n",
    "\n",
    "\n",
    "            audio_url = req['objectUrl']\n",
    "            \n",
    "            if audio_url.strip() != '':\n",
    "                try:\n",
    "                    print(f\"{datetime.now().time()} Downloading audio file from URI: {audio_url}\")\n",
    "                    logger.info(f\"{datetime.now().time()} Downloading audio file from URI: {audio_url}\")\n",
    "                    \n",
    "                    response = requests.get(audio_url) # .wav 파일 다운로드\n",
    "                    response.raise_for_status()  # 오류 발생 시 예외 처리\n",
    "                    \n",
    "                    # 오디오 데이터를 저장할 임시 파일 생성\n",
    "                    with tempfile.NamedTemporaryFile(delete=False) as temp_audio:\n",
    "                        temp_audio.write(response.content)  # 다운로드한 파일 내용을 임시 파일에 저장\n",
    "                        temp_audio_path = temp_audio.name  # 임시 파일 경로 저장\n",
    "\n",
    "                    print(f\"{datetime.now().time()} Audio file downloaded and saved to {temp_audio_path}\")\n",
    "                    logger.info(f\"{datetime.now().time()}  Audio file downloaded and saved to {temp_audio_path}\")\n",
    "\n",
    "\n",
    "\n",
    "                    # time_list = send_analysis_result(req['noteId'], req['processId'], temp_audio_path)\n",
    "                    # analysis_response_data['noteId'] = req['noteId']\n",
    "                    # analysis_response_data['processId'] = req['processId']\n",
    "                    # analysis_response_data['status'] = time_list\n",
    "                    \n",
    "                    # 비동기로 음성 분석 실행\n",
    "                    task_thread = threading.Thread(target=send_analysis_result, args=(req['noteId'], req['processId'], temp_audio_path,))\n",
    "                    task_thread.start()\n",
    "                    \n",
    "                    # 작업 ID와 상태 반환\n",
    "                    analysis_response_data['noteId'] = req['noteId']\n",
    "                    analysis_response_data['processId'] = req['processId']\n",
    "                    analysis_response_data['status'] = 'processing'\n",
    "                    \n",
    "\n",
    "                    return analysis_response_data, 202\n",
    "                    \n",
    "                except requests.exceptions.RequestException as e:\n",
    "                    logger.error(f\"Failed to download audio file: {str(e)}\")\n",
    "                    return jsonify({'error': 'Failed to download audio file'}), 400\n",
    "\n",
    "        except ValueError as e:\n",
    "            base_response['code'] = 400\n",
    "            base_response['message'] = 'error: ' + str(e)\n",
    "            return jsonify(base_response)\n",
    "        \n",
    "        except Exception as e:\n",
    "            base_response['code'] = 500\n",
    "            base_response['message'] = 'error: ' + str(e)\n",
    "            return jsonify(base_response)"
   ]
  },
  {
   "cell_type": "markdown",
   "id": "22",
   "metadata": {},
   "source": [
    "## 5) 기타 메서드"
   ]
  },
  {
   "cell_type": "code",
   "execution_count": null,
   "id": "23",
   "metadata": {},
   "outputs": [],
   "source": [
    "# 비동기 작업\n",
    "def send_analysis_result(noteId, processId, audio_path):\n",
    "    second_list = voice_strength.get_abnormal_interval('', [audio_path])\n",
    "\n",
    "    data = {\n",
    "        'id': int(noteId),\n",
    "        'process_id': str(processId),\n",
    "        'anomaly_time': second_list\n",
    "    }\n",
    "    \n",
    "    # 스프링의 /voice/analysisResult api 호출\n",
    "    try:\n",
    "        response = requests.post(\"http://REMOVED:8080/voice/analysisResult\", json=data)\n",
    "        print(f\"{datetime.now().time()} request: {data}\")\n",
    "        print(f\"{datetime.now().time()} responst: {response}\")\n",
    "        response.raise_for_status()\n",
    "    except requests.exceptions.RequestException as e:\n",
    "        print(f\"{datetime.now().time()} 결과 전송 오류: {e}\")"
   ]
  },
  {
   "cell_type": "code",
   "execution_count": null,
   "id": "24",
   "metadata": {},
   "outputs": [],
   "source": [
    "def denoise(audio_data):\n",
    "    return enhance(dfn_model, df_state, audio_data)"
   ]
  },
  {
   "cell_type": "markdown",
   "id": "25",
   "metadata": {},
   "source": [
    "## 6) 에러 핸들링"
   ]
  },
  {
   "cell_type": "code",
   "execution_count": null,
   "id": "26",
   "metadata": {},
   "outputs": [],
   "source": [
    "@app.errorhandler(405)\n",
    "def internal_error(error):\n",
    "    logger.error(f\"Method Not Allowed: {str(error)}\")\n",
    "\n",
    "    base_response['code'] = 405\n",
    "    base_response['message'] = 'Method Not Allowed'\n",
    "\n",
    "    return jsonify(base_response)"
   ]
  },
  {
   "cell_type": "code",
   "execution_count": null,
   "id": "27",
   "metadata": {},
   "outputs": [],
   "source": [
    "@app.errorhandler(500)\n",
    "def internal_error(error):\n",
    "    logger.error(f\"Internal Server Error: {str(error)}\")\n",
    "    return {\"error\": \"Internal Server Error\"}, 500"
   ]
  },
  {
   "cell_type": "markdown",
   "id": "28",
   "metadata": {},
   "source": [
    "## 7) main"
   ]
  },
  {
   "cell_type": "code",
   "execution_count": null,
   "id": "29",
   "metadata": {},
   "outputs": [],
   "source": [
    "if __name__ == '__main__':\n",
    "    app.run(host='0.0.0.0', port=4998)"
   ]
  }
 ],
 "metadata": {
  "kernelspec": {
   "display_name": "voice_strength",
   "language": "python",
   "name": "voice_strength"
  },
  "language_info": {
   "codemirror_mode": {
    "name": "ipython",
    "version": 3
   },
   "file_extension": ".py",
   "mimetype": "text/x-python",
   "name": "python",
   "nbconvert_exporter": "python",
   "pygments_lexer": "ipython3",
   "version": "3.10.15"
  }
 },
 "nbformat": 4,
 "nbformat_minor": 5
}
