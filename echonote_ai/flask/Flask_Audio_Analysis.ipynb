{
 "cells": [
  {
   "cell_type": "markdown",
   "id": "0",
   "metadata": {},
   "source": [
    "# 1. 라이브러리 import"
   ]
  },
  {
   "cell_type": "markdown",
   "id": "1",
   "metadata": {},
   "source": [
    "## 1) 모델 관련"
   ]
  },
  {
   "cell_type": "code",
   "execution_count": null,
   "id": "2",
   "metadata": {},
   "outputs": [],
   "source": [
    "import os\n",
    "\n",
    "# 음성 데이터 처리\n",
    "import librosa\n",
    "import numpy as np\n",
    "import pandas as pd\n",
    "\n",
    "# 데이터 시각화\n",
    "from matplotlib import pyplot as plt\n",
    "\n",
    "# 모델 관련\n",
    "import sklearn\n",
    "from sklearn import preprocessing # AttributeError: module 'sklearn' has no attribute 'preprocessing'\n",
    "import tensorflow as tf"
   ]
  },
  {
   "cell_type": "markdown",
   "id": "3",
   "metadata": {},
   "source": [
    "## 2) 음성 강세 분석 모델 사용을 위한 라이브러리"
   ]
  },
  {
   "cell_type": "code",
   "execution_count": null,
   "id": "4",
   "metadata": {},
   "outputs": [],
   "source": [
    "import import_ipynb\n",
    "import voice_strength"
   ]
  },
  {
   "cell_type": "markdown",
   "id": "5",
   "metadata": {},
   "source": [
    "## 3) whisper 사용을 위한 라이브러리"
   ]
  },
  {
   "cell_type": "code",
   "execution_count": null,
   "id": "6",
   "metadata": {},
   "outputs": [],
   "source": [
    "import whisper\n",
    "import torch\n",
    "import threading\n",
    "import queue"
   ]
  },
  {
   "cell_type": "markdown",
   "id": "7",
   "metadata": {},
   "source": [
    "## 4) 플라스크 서버 구축을 위한 라이브러리"
   ]
  },
  {
   "cell_type": "code",
   "execution_count": null,
   "id": "8",
   "metadata": {},
   "outputs": [],
   "source": [
    "import tempfile\n",
    "import logging\n",
    "from flask import Flask, request, jsonify\n",
    "import requests\n",
    "from flask_restx import Api, Resource, fields, marshal\n",
    "import signal\n",
    "from datetime import datetime"
   ]
  },
  {
   "cell_type": "markdown",
   "id": "9",
   "metadata": {},
   "source": [
    "# 2. GPU 사용 확인"
   ]
  },
  {
   "cell_type": "code",
   "execution_count": null,
   "id": "10",
   "metadata": {},
   "outputs": [],
   "source": [
    "print(\"Num GPUs Available: \", len(tf.config.list_physical_devices('GPU')))\n",
    "print(tf.config.list_physical_devices('GPU'))"
   ]
  },
  {
   "cell_type": "markdown",
   "id": "11",
   "metadata": {},
   "source": [
    "# 3. 이것 저것 설정"
   ]
  },
  {
   "cell_type": "code",
   "execution_count": null,
   "id": "12",
   "metadata": {},
   "outputs": [],
   "source": [
    "torch.cuda.empty_cache()"
   ]
  },
  {
   "cell_type": "code",
   "execution_count": null,
   "id": "13",
   "metadata": {},
   "outputs": [],
   "source": [
    "task_queue = queue.Queue()\n",
    "results = {}\n",
    "\n",
    "num_worker_threads = 1\n",
    "\n",
    "S_presigned_url = 'objectUrl'\n",
    "S_note_id = 'noteId'\n",
    "C_process_id = 'processId'\n",
    "backEnd_URL = \"http://REMOVED:8080/voice/sttResult\"\n",
    "\n",
    "shutdown_flag = threading.Event()"
   ]
  },
  {
   "cell_type": "markdown",
   "id": "14",
   "metadata": {},
   "source": [
    "# 4. 서버 구축"
   ]
  },
  {
   "cell_type": "markdown",
   "id": "15",
   "metadata": {},
   "source": [
    "## 1) 로그 설정"
   ]
  },
  {
   "cell_type": "code",
   "execution_count": null,
   "id": "16",
   "metadata": {},
   "outputs": [],
   "source": [
    "logging.basicConfig(level=logging.INFO)\n",
    "logger = logging.getLogger(__name__)"
   ]
  },
  {
   "cell_type": "markdown",
   "id": "17",
   "metadata": {},
   "source": [
    "## 2) 스레드 설정"
   ]
  },
  {
   "cell_type": "code",
   "execution_count": null,
   "id": "18",
   "metadata": {},
   "outputs": [],
   "source": [
    "def worker(thread_id):\n",
    "    logger.info(f\"Worker {thread_id} starting, loading Whisper model...\")\n",
    "    model = whisper.load_model(\"large-v3\")  # Adjust the model size as needed\n",
    "    logger.info(f\"Worker {thread_id} loaded Whisper model.\")\n",
    "\n",
    "    while not shutdown_flag.is_set():  # Check for shutdown signal\n",
    "        try:\n",
    "            data = task_queue.get(timeout=1)  # 딕셔너리에서 값 꺼내기\n",
    "            note_id = data[\"note_id\"]\n",
    "            temp_audio_path = data[\"temp_audio_path\"]\n",
    "            process_id = data[\"process_id\"]\n",
    "            \n",
    "        except queue.Empty:\n",
    "            continue\n",
    "        \n",
    "        if note_id is None:\n",
    "            break\n",
    "\n",
    "        logger.info(f\"Worker {thread_id} processing task {note_id}\")\n",
    "        \n",
    "        try:\n",
    "            result = model.transcribe(temp_audio_path)  # temp_audio_path를 사용해야 합니다\n",
    "            send_result_to_spring(note_id, process_id, result['segments'])\n",
    "        except Exception as e:\n",
    "            logger.error(f\"Worker {thread_id} encountered an error: {str(e)}\")\n",
    "            # results[note_id] = {\"status\": \"failed\", \"error\": str(e)}\n",
    "        finally:\n",
    "            os.remove(temp_audio_path)  # temp_audio_path로 변경\n",
    "            if torch.cuda.is_available():\n",
    "                torch.cuda.empty_cache()\n",
    "\n",
    "        task_queue.task_done()"
   ]
  },
  {
   "cell_type": "code",
   "execution_count": null,
   "id": "19",
   "metadata": {},
   "outputs": [],
   "source": [
    "threads = []\n",
    "for i in range(num_worker_threads):\n",
    "    t = threading.Thread(target=worker, args=(i,))\n",
    "    t.start()\n",
    "    threads.append(t)"
   ]
  },
  {
   "cell_type": "markdown",
   "id": "20",
   "metadata": {},
   "source": [
    "## 2) 라우터 및 swagger 설정"
   ]
  },
  {
   "cell_type": "code",
   "execution_count": null,
   "id": "21",
   "metadata": {},
   "outputs": [],
   "source": [
    "app = Flask(__name__)\n",
    "\n",
    "# swagger (http://127.0.0.1:5000/api-docs)\n",
    "api = Api(\n",
    "    app,\n",
    "    version='1.0',\n",
    "    title='발화 강세 분석 AI를 위한 API 문서',\n",
    "    description='Swagger 문서',\n",
    "    doc=\"/api-docs\"\n",
    ")\n",
    "\n",
    "voice_api = api.namespace(name='voice', description='발화 분석 관련 API')\n",
    "test_api = api.namespace('voice_stt', description='STT 기능 관련 API')\n",
    "index_api = api.namespace('hello', description='index API')"
   ]
  },
  {
   "cell_type": "markdown",
   "id": "22",
   "metadata": {},
   "source": [
    "## 3) dto 정의"
   ]
  },
  {
   "cell_type": "code",
   "execution_count": null,
   "id": "23",
   "metadata": {},
   "outputs": [],
   "source": [
    "analysis_request_model = api.model('request', {\n",
    "    'noteId': fields.Integer(readOnly=True, required=True, description='노트 id'), \n",
    "    'objectUrl': fields.String(required=True, description='녹음본이 저장된 위치'),\n",
    "    'processId': fields.String(required=True, description='각 요청에 대한 UUID'),\n",
    "})\n",
    "\n",
    "analysis_response_model = api.model('response', {\n",
    "    'noteId': fields.String(readOnly=True, required=True, description='노트 id'),\n",
    "    'processId': fields.String(required=True, description='각 요청에 대한 UUID'),\n",
    "    'status': fields.String(required=True, description='처리 상태'),\n",
    "})\n",
    "\n",
    "analysis_response_data = {\n",
    "    'noteId': 0,\n",
    "    'processId': '',\n",
    "    'status': '',\n",
    "}\n",
    "\n",
    "base_response = {\n",
    "    'code': 200,\n",
    "    'message': '',\n",
    "    'data': None\n",
    "}\n",
    "\n",
    "# 요청 모델 정의\n",
    "stt_request_model = api.model('STTRequest', {\n",
    "    S_note_id: fields.String(required=True, description='Note ID'),\n",
    "    S_presigned_url: fields.String(required=True, description='Pre-signed URL for audio file'),\n",
    "    C_process_id: fields.String(required=True, description='Process ID')\n",
    "})\n",
    "\n",
    "# 응답 모델 정의\n",
    "stt_response_model = api.model('STTResponse', {\n",
    "    S_note_id: fields.String(description='Note ID'),\n",
    "    C_process_id: fields.String(required=True, description='Process ID'),\n",
    "    'status': fields.String(description='Processing status')\n",
    "})"
   ]
  },
  {
   "cell_type": "markdown",
   "id": "24",
   "metadata": {},
   "source": [
    "## 4) 컨트롤러"
   ]
  },
  {
   "cell_type": "code",
   "execution_count": null,
   "id": "25",
   "metadata": {},
   "outputs": [],
   "source": [
    "@voice_api.route('/')\n",
    "class Index(Resource):\n",
    "    def get(self):\n",
    "        base_response['code'] = 200\n",
    "        base_response['message'] = 'hello'\n",
    "        base_response['data'] = '안녕하'\n",
    "\n",
    "        return jsonify(base_response)"
   ]
  },
  {
   "cell_type": "code",
   "execution_count": null,
   "id": "26",
   "metadata": {},
   "outputs": [],
   "source": [
    "@test_api.route('/stt')\n",
    "class STT(Resource):\n",
    "\n",
    "    @api.expect(stt_request_model)  # 요청 모델을 Swagger에 추가\n",
    "    @api.marshal_with(stt_response_model)  # 응답 모델을 Swagger에 추가\n",
    "    def post(self):\n",
    "        client_ip = request.remote_addr\n",
    "        logger.info(\"check STT post method's connector: \"+client_ip)\n",
    "\n",
    "\n",
    "        logger.info(\"Received STT request\")\n",
    "\n",
    "        process_id = request.json.get(C_process_id)\n",
    "        audio_uri = request.json.get(S_presigned_url)\n",
    "        note_id = request.json.get(S_note_id)\n",
    "\n",
    "        logger.info(f\"들어온 URL: {audio_uri}\");\n",
    "        logger.info(f\"들어온 URL: {process_id}\");\n",
    "\n",
    "        logger.info(f\"들어온 note_id: {note_id}\");\n",
    "\n",
    "        if not request.json.get(S_presigned_url):\n",
    "            logger.warning(\"No audio file provided in the request\")\n",
    "            return {'error': 'No audio file provided'}, 400\n",
    "\n",
    "        if audio_uri:\n",
    "            try:\n",
    "                logger.info(f\"Downloading audio file from URI: {audio_uri}\")\n",
    "                response = requests.get(audio_uri)\n",
    "                response.raise_for_status()\n",
    "\n",
    "                with tempfile.NamedTemporaryFile(delete=False) as temp_audio:\n",
    "                    temp_audio.write(response.content)\n",
    "                    temp_audio_path = temp_audio.name\n",
    "\n",
    "                logger.info(f\"Audio file downloaded and saved to {temp_audio_path}\")\n",
    "\n",
    "                data = {\n",
    "                    \"note_id\": note_id,\n",
    "                    \"temp_audio_path\": temp_audio_path,\n",
    "                    \"process_id\": process_id\n",
    "                }\n",
    "                task_queue.put(data)\n",
    "\n",
    "                logger.info(f\"Task {note_id} added to the queue\")\n",
    "\n",
    "                return {S_note_id: note_id, \"processId\": process_id, \"status\": \"processing\"}, 202\n",
    "\n",
    "            except requests.exceptions.RequestException as e:\n",
    "                logger.error(f\"Failed to download audio file: {str(e)}\")\n",
    "                return {'error': 'Failed to download audio file'}, 400"
   ]
  },
  {
   "cell_type": "code",
   "execution_count": null,
   "id": "27",
   "metadata": {},
   "outputs": [],
   "source": [
    "@voice_api.route('/analysis')\n",
    "class Analysis(Resource):\n",
    "    @voice_api.expect(analysis_request_model)  # 요청 모델을 Swagger에 추가\n",
    "    # @api.marshal_with(analysis_response_model)  # 응답 모델을 Swagger에 추가\n",
    "\n",
    "    def post(self):\n",
    "        try:\n",
    "            req = marshal(request.get_json(force=True), analysis_request_model)\n",
    "            print(f\"{datetime.now().time()} {req}\")\n",
    "            \n",
    "            # 유효 범위 처리\n",
    "            if req['noteId'] < 0:\n",
    "                return\n",
    "\n",
    "\n",
    "            audio_url = req['objectUrl']\n",
    "            \n",
    "            if audio_url.strip() != '':\n",
    "                try:\n",
    "                    print(f\"{datetime.now().time()} Downloading audio file from URI: {audio_url}\")\n",
    "                    logger.info(f\"{datetime.now().time()} Downloading audio file from URI: {audio_url}\")\n",
    "                    \n",
    "                    response = requests.get(audio_url) # .wav 파일 다운로드\n",
    "                    response.raise_for_status()  # 오류 발생 시 예외 처리\n",
    "                    \n",
    "                    # 오디오 데이터를 저장할 임시 파일 생성\n",
    "                    with tempfile.NamedTemporaryFile(delete=False) as temp_audio:\n",
    "                        temp_audio.write(response.content)  # 다운로드한 파일 내용을 임시 파일에 저장\n",
    "                        temp_audio_path = temp_audio.name  # 임시 파일 경로 저장\n",
    "\n",
    "                    print(f\"{datetime.now().time()} Audio file downloaded and saved to {temp_audio_path}\")\n",
    "                    logger.info(f\"{datetime.now().time()}  Audio file downloaded and saved to {temp_audio_path}\")\n",
    "\n",
    "\n",
    "\n",
    "                    # time_list = send_analysis_result(req['noteId'], req['processId'], temp_audio_path)\n",
    "                    # analysis_response_data['noteId'] = req['noteId']\n",
    "                    # analysis_response_data['processId'] = req['processId']\n",
    "                    # analysis_response_data['status'] = time_list\n",
    "                    \n",
    "                    # 비동기로 음성 분석 실행\n",
    "                    task_thread = threading.Thread(target=send_analysis_result, args=(req['noteId'], req['processId'], temp_audio_path,))\n",
    "                    task_thread.start()\n",
    "                    \n",
    "                    # 작업 ID와 상태 반환\n",
    "                    analysis_response_data['noteId'] = req['noteId']\n",
    "                    analysis_response_data['processId'] = req['processId']\n",
    "                    analysis_response_data['status'] = 'processing'\n",
    "                    \n",
    "\n",
    "                    return analysis_response_data, 202\n",
    "                    \n",
    "                except requests.exceptions.RequestException as e:\n",
    "                    logger.error(f\"Failed to download audio file: {str(e)}\")\n",
    "                    return jsonify({'error': 'Failed to download audio file'}), 400\n",
    "\n",
    "        except ValueError as e:\n",
    "            base_response['code'] = 400\n",
    "            base_response['message'] = 'error: ' + str(e)\n",
    "            return jsonify(base_response)\n",
    "        \n",
    "        except Exception as e:\n",
    "            base_response['code'] = 500\n",
    "            base_response['message'] = 'error: ' + str(e)\n",
    "            return jsonify(base_response)"
   ]
  },
  {
   "cell_type": "markdown",
   "id": "28",
   "metadata": {},
   "source": [
    "## 5) 기타 메서드"
   ]
  },
  {
   "cell_type": "code",
   "execution_count": null,
   "id": "29",
   "metadata": {},
   "outputs": [],
   "source": [
    "# 비동기 작업\n",
    "def send_analysis_result(noteId, processId, audio_path):\n",
    "    second_list = voice_strength.get_abnormal_interval('', [audio_path])\n",
    "\n",
    "    data = {\n",
    "        'id': int(noteId),\n",
    "        'process_id': str(processId),\n",
    "        'anomaly_time': second_list\n",
    "    }\n",
    "    \n",
    "    # 스프링의 /voice/analysisResult api 호출\n",
    "    try:\n",
    "        response = requests.post(\"http://REMOVED:8080/voice/analysisResult\", json=data)\n",
    "        print(f\"{datetime.now().time()} request: {data}\")\n",
    "        print(f\"{datetime.now().time()} responst: {response}\")\n",
    "        response.raise_for_status()\n",
    "    except requests.exceptions.RequestException as e:\n",
    "        print(f\"{datetime.now().time()} 결과 전송 오류: {e}\")"
   ]
  },
  {
   "cell_type": "markdown",
   "id": "30",
   "metadata": {},
   "source": [
    "## 6) 에러 핸들링"
   ]
  },
  {
   "cell_type": "code",
   "execution_count": null,
   "id": "31",
   "metadata": {},
   "outputs": [],
   "source": [
    "@app.errorhandler(405)\n",
    "def internal_error(error):\n",
    "    logger.error(f\"Method Not Allowed: {str(error)}\")\n",
    "\n",
    "    base_response['code'] = 405\n",
    "    base_response['message'] = 'Method Not Allowed'\n",
    "\n",
    "    return jsonify(base_response)"
   ]
  },
  {
   "cell_type": "code",
   "execution_count": null,
   "id": "32",
   "metadata": {},
   "outputs": [],
   "source": [
    "@app.errorhandler(500)\n",
    "def internal_error(error):\n",
    "    logger.error(f\"Internal Server Error: {str(error)}\")\n",
    "    return {\"error\": \"Internal Server Error\"}, 500"
   ]
  },
  {
   "cell_type": "markdown",
   "id": "33",
   "metadata": {},
   "source": [
    "## 7) main"
   ]
  },
  {
   "cell_type": "code",
   "execution_count": null,
   "id": "34",
   "metadata": {},
   "outputs": [],
   "source": [
    "if __name__ == '__main__':\n",
    "    try:\n",
    "        #public_url = ngrok.connect(port).public_url\n",
    "        #print(public_url)\n",
    "        app.run(port=4998)\n",
    "\n",
    "    finally:\n",
    "        torch.cuda.empty_cache()\n",
    "        handle_shutdown(None, None)\n",
    "        for _ in range(num_worker_threads):\n",
    "            task_queue.put((None, None))\n",
    "        for t in threads:\n",
    "            t.join()"
   ]
  }
 ],
 "metadata": {
  "kernelspec": {
   "display_name": "voice_strength",
   "language": "python",
   "name": "voice_strength"
  },
  "language_info": {
   "codemirror_mode": {
    "name": "ipython",
    "version": 3
   },
   "file_extension": ".py",
   "mimetype": "text/x-python",
   "name": "python",
   "nbconvert_exporter": "python",
   "pygments_lexer": "ipython3",
   "version": "3.10.15"
  }
 },
 "nbformat": 4,
 "nbformat_minor": 5
}
